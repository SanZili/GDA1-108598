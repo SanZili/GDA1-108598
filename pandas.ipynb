{
 "cells": [
  {
   "cell_type": "markdown",
   "id": "7ecf57d5-85e9-402f-92f8-4e902b7a16da",
   "metadata": {},
   "source": [
    "# Introduction to Pandas DataFrames"
   ]
  },
  {
   "cell_type": "markdown",
   "id": "6ff6db64-6222-4979-b384-72b93928f019",
   "metadata": {},
   "source": []
  },
  {
   "cell_type": "markdown",
   "id": "0e930cbb-921d-4887-9b27-f260f2d36d78",
   "metadata": {
    "jupyter": {
     "source_hidden": true
    }
   },
   "source": [
    "[Pandas](https://pandas.pydata.org/) is a powerful and versatile library for Python, designed primarily for data manipulation and analysis. To quote from Nvidia’s website:"
   ]
  },
  {
   "cell_type": "markdown",
   "id": "beb13d74-afa5-4af7-88e7-cdf03a8be119",
   "metadata": {},
   "source": [
    "Pandas is the most popular software library for data manipulation and data analysis for the Python programming language. [(www.nvidia.com)](https://www.nvidia.com/en-us/glossary/pandas-python/)"
   ]
  },
  {
   "cell_type": "markdown",
   "id": "2c1cf665-ea1e-4343-80ea-9d6020dc972a",
   "metadata": {},
   "source": [
    "Here is an (incomplete) list of some key functionalities provided by Pandas:\n",
    "\n",
    "1. Data Structures\n",
    "    * Series: One-dimensional labeled array capable of holding data of any type.\n",
    "    * DataFrame: Two-dimensional, size-mutable, potentially heterogeneous tabular data structure with labeled axes (rows and columns).\n",
    "2. Data Manipulation\n",
    "    * Data Selection and Indexing: Access data via labels, indices, or boolean masks (.loc, .iloc, .at, .iat).\n",
    "    * Filtering: Filter data based on conditions or queries.\n",
    "    * Sorting: Sort data by labels or values.\n",
    "    * Handling Missing Data: Identify, fill, or drop missing values (isnull, dropna, fillna).\n",
    "3. Data Cleaning\n",
    "    * Dropping Duplicates: Remove duplicate rows or columns.\n",
    "    * Replacing Values: Replace specific values in the DataFrame.\n",
    "    * String Operations: Perform operations on string data, like splitting, replacing, and pattern matching (str.split, str.replace).\n",
    "4. Aggregation and Grouping\n",
    "    * Group By: Split data into groups based on criteria, and perform aggregate functions like sum, mean, or custom operations.\n",
    "    * Pivot Tables: Create a pivot table to summarize data.\n",
    "5. Merging and Joining\n",
    "    * Concatenation: Combine multiple DataFrames along a particular axis.\n",
    "    * Merging: Merge DataFrames similar to SQL joins (merge, join).\n",
    "6. Time Series\n",
    "    * Datetime Conversion: Convert date and time data to a datetime object.\n",
    "    * Resampling: Aggregate data over a time period.\n",
    "    * Time-based Indexing: Access and manipulate time-series data easily with date indexing.\n",
    "7. Statistical and Mathematical Operations\n",
    "    * Descriptive Statistics: Compute summary statistics for DataFrame columns.\n",
    "    * Correlation/ Covariance: Calculate the pairwise correlation or covariance between columns.\n",
    "    * Cumulative Operations: Perform cumulative operations on data."
   ]
  },
  {
   "cell_type": "markdown",
   "id": "d1f57651-8729-4522-abd9-056795434c7b",
   "metadata": {},
   "source": [
    "At the heart of Pandas lies the DataFrame, a two-dimensional labeled data structure with columns of potentially different types, similar to a table in a relational database or an Excel spreadsheet. Understanding DataFrames is crucial for anyone looking to perform data analysis in Python."
   ]
  },
  {
   "cell_type": "markdown",
   "id": "06b4f04f-db3d-4266-b974-eb51cecb5032",
   "metadata": {},
   "source": [
    "## What is a DataFrame?"
   ]
  },
  {
   "cell_type": "markdown",
   "id": "506d33d5-e1a7-4223-bf59-0ea1f210433a",
   "metadata": {},
   "source": [
    "A DataFrame is a table-like structure in Pandas that consists of rows and columns, where each column can hold different data types (e.g., integers, floats, strings). You can think of it as a collection of Series objects, where each Series is a single column of data. DataFrames provide a highly efficient way to store and manipulate large datasets in memory."
   ]
  },
  {
   "cell_type": "markdown",
   "id": "1f30cfca-465b-48ac-b546-6a5af9f596d8",
   "metadata": {},
   "source": [
    "## Creating a DataFrame"
   ]
  },
  {
   "cell_type": "markdown",
   "id": "c5f90370-7dde-465e-afc7-842551a632c9",
   "metadata": {},
   "source": [
    "There are several ways to create a DataFrame in Pandas, but some of the most common methods are:\n",
    "\n",
    "1. From a Dictionary\n",
    "2. From a List of Lists\n",
    "3. From a CSV File\n",
    "\n",
    "Below we take a look at the first two approaches."
   ]
  },
  {
   "cell_type": "markdown",
   "id": "88db4d1b-36c0-4aa6-a780-9f5888595113",
   "metadata": {},
   "source": [
    "### Creating DataFrame from a Dictionary"
   ]
  },
  {
   "cell_type": "markdown",
   "id": "5ea09c52-4f01-4ed1-b7bd-322399963261",
   "metadata": {},
   "source": [
    "The following code will create a DataFrame with three columns: ‘Name’, ‘Age’, and ‘City’, and three rows corresponding to the data provided in the dictionary. To be able to use Pandas, we first have to import it. This is done using the command import pandas as pd, introducing the alias pd for Pandas."
   ]
  },
  {
   "cell_type": "code",
   "execution_count": 13,
   "id": "86f97311-2465-46e1-b753-d7d752fda061",
   "metadata": {},
   "outputs": [
    {
     "data": {
      "text/html": [
       "<div>\n",
       "<style scoped>\n",
       "    .dataframe tbody tr th:only-of-type {\n",
       "        vertical-align: middle;\n",
       "    }\n",
       "\n",
       "    .dataframe tbody tr th {\n",
       "        vertical-align: top;\n",
       "    }\n",
       "\n",
       "    .dataframe thead th {\n",
       "        text-align: right;\n",
       "    }\n",
       "</style>\n",
       "<table border=\"1\" class=\"dataframe\">\n",
       "  <thead>\n",
       "    <tr style=\"text-align: right;\">\n",
       "      <th></th>\n",
       "      <th>Name</th>\n",
       "      <th>Age</th>\n",
       "      <th>City</th>\n",
       "    </tr>\n",
       "  </thead>\n",
       "  <tbody>\n",
       "    <tr>\n",
       "      <th>0</th>\n",
       "      <td>Alice</td>\n",
       "      <td>25</td>\n",
       "      <td>New York</td>\n",
       "    </tr>\n",
       "    <tr>\n",
       "      <th>1</th>\n",
       "      <td>Bob</td>\n",
       "      <td>30</td>\n",
       "      <td>Los Angeles</td>\n",
       "    </tr>\n",
       "    <tr>\n",
       "      <th>2</th>\n",
       "      <td>Charlie</td>\n",
       "      <td>35</td>\n",
       "      <td>Chicago</td>\n",
       "    </tr>\n",
       "  </tbody>\n",
       "</table>\n",
       "</div>"
      ],
      "text/plain": [
       "      Name  Age         City\n",
       "0    Alice   25     New York\n",
       "1      Bob   30  Los Angeles\n",
       "2  Charlie   35      Chicago"
      ]
     },
     "execution_count": 13,
     "metadata": {},
     "output_type": "execute_result"
    }
   ],
   "source": [
    "import pandas as pd\n",
    "\n",
    "data = {\n",
    "    'Name': ['Alice', 'Bob', 'Charlie'],\n",
    "    'Age': [25, 30, 35],\n",
    "    'City': ['New York', 'Los Angeles', 'Chicago']\n",
    "}\n",
    "\n",
    "df = pd.DataFrame(data)\n",
    "df"
   ]
  },
  {
   "cell_type": "markdown",
   "id": "32f4eb6b-5442-4067-8e27-bb650ead0ea2",
   "metadata": {},
   "source": [
    "### Creating DataFrame from a List of Lists"
   ]
  },
  {
   "cell_type": "markdown",
   "id": "1d88fe8c-275a-4119-8a43-f6826173d677",
   "metadata": {},
   "source": [
    "Here, we create the DataFrame from a list of lists where each inner list represents the values for one row. Note that We explicitly specify the column names when creating the DataFrame."
   ]
  },
  {
   "cell_type": "code",
   "execution_count": 14,
   "id": "8f2398d5-5240-465b-aa83-484f1821d3da",
   "metadata": {},
   "outputs": [
    {
     "data": {
      "text/html": [
       "<div>\n",
       "<style scoped>\n",
       "    .dataframe tbody tr th:only-of-type {\n",
       "        vertical-align: middle;\n",
       "    }\n",
       "\n",
       "    .dataframe tbody tr th {\n",
       "        vertical-align: top;\n",
       "    }\n",
       "\n",
       "    .dataframe thead th {\n",
       "        text-align: right;\n",
       "    }\n",
       "</style>\n",
       "<table border=\"1\" class=\"dataframe\">\n",
       "  <thead>\n",
       "    <tr style=\"text-align: right;\">\n",
       "      <th></th>\n",
       "      <th>Name</th>\n",
       "      <th>Age</th>\n",
       "      <th>City</th>\n",
       "    </tr>\n",
       "  </thead>\n",
       "  <tbody>\n",
       "    <tr>\n",
       "      <th>0</th>\n",
       "      <td>Alice</td>\n",
       "      <td>25</td>\n",
       "      <td>New York</td>\n",
       "    </tr>\n",
       "    <tr>\n",
       "      <th>1</th>\n",
       "      <td>Bob</td>\n",
       "      <td>30</td>\n",
       "      <td>Los Angeles</td>\n",
       "    </tr>\n",
       "    <tr>\n",
       "      <th>2</th>\n",
       "      <td>Charlie</td>\n",
       "      <td>35</td>\n",
       "      <td>Chicago</td>\n",
       "    </tr>\n",
       "  </tbody>\n",
       "</table>\n",
       "</div>"
      ],
      "text/plain": [
       "      Name  Age         City\n",
       "0    Alice   25     New York\n",
       "1      Bob   30  Los Angeles\n",
       "2  Charlie   35      Chicago"
      ]
     },
     "execution_count": 14,
     "metadata": {},
     "output_type": "execute_result"
    }
   ],
   "source": [
    "data = [\n",
    "    ['Alice', 25, 'New York'],\n",
    "    ['Bob', 30, 'Los Angeles'],\n",
    "    ['Charlie', 35, 'Chicago']\n",
    "]\n",
    "\n",
    "df = pd.DataFrame(data, columns=['Name', 'Age', 'City'])\n",
    "df"
   ]
  },
  {
   "cell_type": "markdown",
   "id": "c0962cb8-4ccd-42ca-8500-90e9fdcfe02b",
   "metadata": {},
   "source": [
    "## Accessing Data in a DataFrame\n"
   ]
  },
  {
   "cell_type": "markdown",
   "id": "a6b48eb8-a32c-490d-a84b-bc802a63aeba",
   "metadata": {},
   "source": [
    "Once you have a DataFrame, you can access its data in various ways:"
   ]
  },
  {
   "cell_type": "markdown",
   "id": "dab51316-68f1-4e6e-9d4b-eb2579f55bfb",
   "metadata": {
    "jupyter": {
     "source_hidden": true
    }
   },
   "source": [
    "-  By column name:"
   ]
  },
  {
   "cell_type": "code",
   "execution_count": 15,
   "id": "059c618f-bf41-4816-ad5a-f93fc0e66384",
   "metadata": {},
   "outputs": [
    {
     "data": {
      "text/plain": [
       "0      Alice\n",
       "1        Bob\n",
       "2    Charlie\n",
       "Name: Name, dtype: object"
      ]
     },
     "execution_count": 15,
     "metadata": {},
     "output_type": "execute_result"
    }
   ],
   "source": [
    "df['Name']"
   ]
  },
  {
   "cell_type": "markdown",
   "id": "acd0c698-0116-462e-8a08-f474cb6b5a00",
   "metadata": {},
   "source": [
    "- By row index:"
   ]
  },
  {
   "cell_type": "code",
   "execution_count": 16,
   "id": "86357cdb-ecfc-49ae-a28f-e8045c36e781",
   "metadata": {},
   "outputs": [
    {
     "data": {
      "text/plain": [
       "Name       Alice\n",
       "Age           25\n",
       "City    New York\n",
       "Name: 0, dtype: object"
      ]
     },
     "execution_count": 16,
     "metadata": {},
     "output_type": "execute_result"
    }
   ],
   "source": [
    "df.iloc[0]"
   ]
  },
  {
   "cell_type": "markdown",
   "id": "033d3eb6-8b2f-4b63-a9c3-ed75b2c9b87d",
   "metadata": {},
   "source": [
    "- Using both:"
   ]
  },
  {
   "cell_type": "code",
   "execution_count": 17,
   "id": "3b3f3bc9-94ea-4c7e-84d7-e3c82235530b",
   "metadata": {},
   "outputs": [
    {
     "data": {
      "text/plain": [
       "'Alice'"
      ]
     },
     "execution_count": 17,
     "metadata": {},
     "output_type": "execute_result"
    }
   ],
   "source": [
    "df.loc[0, 'Name']"
   ]
  },
  {
   "cell_type": "markdown",
   "id": "ba5d7340-aa14-4695-9661-a165ecda9cf8",
   "metadata": {},
   "source": [
    "## Conclusion"
   ]
  },
  {
   "cell_type": "markdown",
   "id": "3aa5b3eb-d7e8-46c2-a19f-64b00a1bc4bb",
   "metadata": {},
   "source": [
    "Pandas DataFrames are a fundamental tool in the data analysis toolkit for Python users. They provide a  \n",
    "powerful way to organize, manipulate, and analyze data efficiently. Whether you’re working with small  \n",
    "datasets or handling large-scale data, mastering DataFrames will allow you to tackle a wide range of  \n",
    "data-related tasks with ease.\n",
    "\n",
    "In this introduction, we’ve covered the basics of what a DataFrame is, how to create one, and how to access columns, rows, and individual cells in a DataFrame. As you continue to explore Pandas, you’ll discover many more features and capabilities that make DataFrames an indispensable part of Python programming. The table below contains a number of resources related to Pandas."
   ]
  },
  {
   "cell_type": "markdown",
   "id": "020ecfdd-c284-4468-b06b-59a22bf47e7d",
   "metadata": {},
   "source": [
    "| **Resource** | Description |  \n",
    "| :----------- | :---------- |\n",
    "| [Pandas Documentation](https://pandas.pydata.org) | Official documentation for Pandas. |\n",
    "| [Python for Data Analysis](https://www.oreilly.com/library/view/python-for-data/9781491957653/) | Comprehensive guide by Pandas creator, Wes McKinney. |\n",
    "| [Real Python: The Pandas DataFrame](https://realpython.com/pandas-dataframe/) | Tutorials on using Pandas for data analysis. |\n",
    "| [Kaggle Pandas](https://www.kaggle.com/learn/pandas) | Free introductory course on Pandas by Kaggle. |\n",
    "| [DataCamp Pandas Tutorial](https://www.datacamp.com/tutorial/pandas-tutorial-dataframe-python) | Detailed tutorials and exercises on Pandas. |"
   ]
  },
  {
   "cell_type": "code",
   "execution_count": null,
   "id": "5c922566-447e-44f2-b7ae-0c1811aab17c",
   "metadata": {
    "jupyter": {
     "source_hidden": true
    }
   },
   "outputs": [],
   "source": []
  },
  {
   "cell_type": "code",
   "execution_count": null,
   "id": "4eb6be9f-958a-4704-abdc-c8143c9fc800",
   "metadata": {},
   "outputs": [],
   "source": []
  },
  {
   "cell_type": "code",
   "execution_count": null,
   "id": "e645c348-4ef8-4a8b-a2a0-8b5cbcc755dd",
   "metadata": {},
   "outputs": [],
   "source": []
  }
 ],
 "metadata": {
  "kernelspec": {
   "display_name": "Python 3 (ipykernel)",
   "language": "python",
   "name": "python3"
  },
  "language_info": {
   "codemirror_mode": {
    "name": "ipython",
    "version": 3
   },
   "file_extension": ".py",
   "mimetype": "text/x-python",
   "name": "python",
   "nbconvert_exporter": "python",
   "pygments_lexer": "ipython3",
   "version": "3.11.13"
  }
 },
 "nbformat": 4,
 "nbformat_minor": 5
}
